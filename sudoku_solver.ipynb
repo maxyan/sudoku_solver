{
 "cells": [
  {
   "cell_type": "markdown",
   "metadata": {},
   "source": [
    "This module attempts to solve Sudokus"
   ]
  },
  {
   "cell_type": "code",
   "execution_count": 70,
   "metadata": {
    "collapsed": true
   },
   "outputs": [],
   "source": [
    "# http://www.websudoku.com/?level=1&set_id=3079647469\n",
    "# row-represented\n",
    "input_list = [[0,0,0,0,6,0,0,7,8],\n",
    "              [0,4,7,0,0,3,5,0,6],\n",
    "              [6,9,0,0,0,7,0,0,0],\n",
    "              [9,0,0,6,0,1,3,4,0],\n",
    "              [5,7,0,0,0,0,0,8,1],\n",
    "              [0,3,1,5,0,9,0,0,7],\n",
    "              [0,0,0,1,0,0,0,3,2],\n",
    "              [7,0,4,2,0,0,6,1,0],\n",
    "              [1,2,0,0,9,0,0,0,0]]"
   ]
  },
  {
   "cell_type": "code",
   "execution_count": 38,
   "metadata": {
    "collapsed": true
   },
   "outputs": [],
   "source": [
    "# HARD: http://www.websudoku.com/?level=3&set_id=3365344417\n",
    "input_list = [[5,0,0,0,2,0,3,0,0], \n",
    "              [0,0,0,7,0,0,0,0,8],\n",
    "              [0,1,0,0,9,5,7,0,6],\n",
    "              [9,3,0,0,0,0,2,0,0],\n",
    "              [0,0,0,0,5,0,0,0,0],\n",
    "              [0,0,6,0,0,0,0,1,3],\n",
    "              [7,0,2,4,1,0,0,8,0],\n",
    "              [1,0,0,0,0,8,0,0,0],\n",
    "              [0,0,3,0,6,0,0,0,7]]       "
   ]
  },
  {
   "cell_type": "code",
   "execution_count": 48,
   "metadata": {
    "collapsed": true
   },
   "outputs": [],
   "source": [
    "# HARD: http://www.websudoku.com/?level=3&set_id=2739385673\n",
    "input_list = [[8,0,5,0,0,1,0,0,7], \n",
    "              [0,2,7,0,0,0,4,0,0],\n",
    "              [0,0,0,7,0,8,2,0,0],\n",
    "              [0,6,0,3,0,0,0,2,0],\n",
    "              [0,0,1,0,0,0,7,0,0],\n",
    "              [0,7,0,0,0,9,0,5,0],\n",
    "              [0,0,8,6,0,3,0,0,0],\n",
    "              [0,0,3,0,0,0,6,1,0],\n",
    "              [7,0,0,9,0,0,3,0,8]]       "
   ]
  },
  {
   "cell_type": "code",
   "execution_count": 80,
   "metadata": {
    "collapsed": true
   },
   "outputs": [],
   "source": [
    "# EVIL: http://www.websudoku.com/?level=4&set_id=7767782257\n",
    "input_list = [[0,3,0,0,0,4,9,0,0], \n",
    "              [2,0,0,0,0,0,8,5,0],\n",
    "              [0,0,0,9,0,0,0,4,0],\n",
    "              [0,9,0,4,5,6,1,0,0],\n",
    "              [0,0,0,0,0,0,0,0,0],\n",
    "              [0,0,5,1,8,7,0,6,0],\n",
    "              [0,7,0,0,0,1,0,0,0],\n",
    "              [0,6,4,0,0,0,0,0,5],\n",
    "              [0,0,2,6,0,0,0,7,0]]       "
   ]
  },
  {
   "cell_type": "code",
   "execution_count": 69,
   "metadata": {
    "collapsed": true
   },
   "outputs": [],
   "source": [
    "def row(x, row_idx, col_idx, exclude_self=False):\n",
    "    if exclude_self:\n",
    "        result = [entry for i, entry in enumerate(x[row_idx]) if i != col_idx]\n",
    "    else:\n",
    "        result = x[row_idx]\n",
    "    return result\n",
    "\n",
    "def col(x, row_idx, col_idx, exclude_self=False):\n",
    "    if exclude_self:\n",
    "        result = [entry[col_idx] for i, entry in enumerate(x) if i != row_idx]\n",
    "    else:\n",
    "        result = [entry[col_idx] for entry in x]\n",
    "    return result\n",
    "\n",
    "def block(x, row_idx, col_idx, exclude_self=False):\n",
    "    start_row = int(row_idx / 3) * 3\n",
    "    end_row = start_row + 3\n",
    "    \n",
    "    start_col = int(col_idx / 3) * 3\n",
    "    end_col = start_col + 3\n",
    "    \n",
    "    if exclude_self:\n",
    "        result = [x[i][j] for i in range(start_row, end_row) for j in range(start_col, end_col) if (i != row_idx or j != col_idx)]\n",
    "    else:        \n",
    "        result = [x[i][j] for i in range(start_row, end_row) for j in range(start_col, end_col)]\n",
    "    return result"
   ]
  },
  {
   "cell_type": "code",
   "execution_count": 3,
   "metadata": {
    "collapsed": true
   },
   "outputs": [],
   "source": [
    "def possible_values(input_list, row_idx, col_idx):\n",
    "    row_values = row(input_list, row_idx, col_idx)\n",
    "    col_values = col(input_list, row_idx, col_idx)\n",
    "    block_values = block(input_list, row_idx, col_idx)\n",
    "    \n",
    "    cell_value = input_list[row_idx][col_idx]\n",
    "    if cell_value > 0:\n",
    "        return [cell_value]\n",
    "    return [i for i in range(1, 10) if not ((i in row_values) or (i in col_values) or (i in block_values))]"
   ]
  },
  {
   "cell_type": "code",
   "execution_count": 4,
   "metadata": {
    "collapsed": true
   },
   "outputs": [],
   "source": [
    "def make_candidates(input_list):\n",
    "    candidates = []\n",
    "    for i in range(len(input_list)):\n",
    "        row_res = []\n",
    "        for j in range(len(input_list[0])):\n",
    "            row_res.append(possible_values(input_list, i, j))\n",
    "        candidates.append(row_res)\n",
    "    return candidates"
   ]
  },
  {
   "cell_type": "code",
   "execution_count": 85,
   "metadata": {
    "collapsed": false
   },
   "outputs": [],
   "source": [
    "def fill_values(input_list, candidates_all):\n",
    "    for i in range(len(input_list)):\n",
    "        for j in range(len(input_list[0])):\n",
    "            value_set = False\n",
    "            if input_list[i][j] == 0 and len(candidates_all[i][j]) == 1:\n",
    "                input_list[i][j] = candidates_all[i][j][0]\n",
    "                value_set = True\n",
    "                continue\n",
    "            \n",
    "            candidate_blocks = block(candidates_all, i, j, exclude_self=True)\n",
    "            candidate_rows = row(candidates_all, i, j, exclude_self=True)\n",
    "            candidate_cols = col(candidates_all, i, j, exclude_self=True)\n",
    "            for val in candidates_all[i][j]:\n",
    "                val_in_block = [val in entry for entry in candidate_blocks]\n",
    "                val_in_row = [val in entry for entry in candidate_rows]\n",
    "                val_in_col = [val in entry for entry in candidate_cols]\n",
    "                if True not in val_in_block or True not in val_in_row or True not in val_in_col:\n",
    "                    input_list[i][j] = val\n",
    "                    value_set = True\n",
    "                    break\n",
    "                                    "
   ]
  },
  {
   "cell_type": "code",
   "execution_count": 6,
   "metadata": {
    "collapsed": true
   },
   "outputs": [],
   "source": [
    "def has_empty_cell(input_list):\n",
    "    for row in input_list:\n",
    "        if 0 in row:\n",
    "            return True\n",
    "    return False"
   ]
  },
  {
   "cell_type": "code",
   "execution_count": 83,
   "metadata": {
    "collapsed": false,
    "scrolled": true
   },
   "outputs": [
    {
     "name": "stdout",
     "output_type": "stream",
     "text": [
      "CPU times: user 3.1 s, sys: 52 ms, total: 3.16 s\n",
      "Wall time: 3.1 s\n"
     ]
    }
   ],
   "source": [
    "%%time\n",
    "num_iter = 0\n",
    "while has_empty_cell(input_list) and num_iter < 2000:\n",
    "    fill_values(input_list, make_candidates(input_list))\n",
    "    num_iter += 1"
   ]
  },
  {
   "cell_type": "code",
   "execution_count": 79,
   "metadata": {
    "collapsed": false
   },
   "outputs": [
    {
     "data": {
      "text/plain": [
       "[[[1, 5, 6, 7, 8],\n",
       "  [3],\n",
       "  [1, 6, 7, 8],\n",
       "  [2, 5, 8],\n",
       "  [1, 2, 6],\n",
       "  [4],\n",
       "  [9],\n",
       "  [1, 2],\n",
       "  [1, 2, 6]],\n",
       " [[2], [4], [9], [7], [1, 6], [3], [8], [5], [1, 6]],\n",
       " [[1, 5, 6, 8],\n",
       "  [1, 5, 8],\n",
       "  [1, 6, 8],\n",
       "  [9],\n",
       "  [1, 2, 6],\n",
       "  [2, 5, 8],\n",
       "  [7],\n",
       "  [4],\n",
       "  [3]],\n",
       " [[3, 7, 8], [9], [3, 7, 8], [4], [5], [6], [1], [2, 3, 8], [2, 7, 8]],\n",
       " [[1, 3, 4, 6, 7, 8],\n",
       "  [1, 8],\n",
       "  [1, 3, 6, 7, 8],\n",
       "  [2, 3],\n",
       "  [2, 3, 9],\n",
       "  [2, 9],\n",
       "  [5],\n",
       "  [2, 3, 8],\n",
       "  [2, 4, 7, 8]],\n",
       " [[3, 4], [2], [5], [1], [8], [7], [3, 4], [6], [9]],\n",
       " [[3, 5, 8, 9],\n",
       "  [7],\n",
       "  [3, 8],\n",
       "  [2, 3, 5, 8],\n",
       "  [2, 3, 4, 9],\n",
       "  [1],\n",
       "  [6],\n",
       "  [3, 8, 9],\n",
       "  [4, 8]],\n",
       " [[1, 3, 8, 9], [6], [4], [3, 8], [7], [8, 9], [2], [1, 3, 8, 9], [5]],\n",
       " [[1, 3, 5, 8, 9],\n",
       "  [1, 5, 8],\n",
       "  [2],\n",
       "  [6],\n",
       "  [3, 4, 9],\n",
       "  [5, 8, 9],\n",
       "  [3, 4],\n",
       "  [7],\n",
       "  [1, 4, 8]]]"
      ]
     },
     "execution_count": 79,
     "metadata": {},
     "output_type": "execute_result"
    }
   ],
   "source": [
    "make_candidates(input_list)"
   ]
  },
  {
   "cell_type": "code",
   "execution_count": 72,
   "metadata": {
    "collapsed": false
   },
   "outputs": [
    {
     "data": {
      "text/plain": [
       "[[0, 3, 0, 0, 0, 4, 9, 0, 0],\n",
       " [2, 4, 9, 7, 0, 3, 8, 5, 0],\n",
       " [0, 0, 0, 9, 0, 0, 7, 4, 0],\n",
       " [0, 9, 0, 4, 5, 6, 1, 0, 0],\n",
       " [0, 0, 0, 0, 0, 0, 5, 0, 0],\n",
       " [0, 2, 5, 1, 8, 7, 0, 6, 9],\n",
       " [0, 7, 0, 0, 0, 1, 0, 0, 0],\n",
       " [0, 6, 4, 0, 7, 0, 0, 0, 5],\n",
       " [0, 0, 2, 6, 0, 0, 0, 7, 0]]"
      ]
     },
     "execution_count": 72,
     "metadata": {},
     "output_type": "execute_result"
    }
   ],
   "source": [
    "input_list"
   ]
  },
  {
   "cell_type": "code",
   "execution_count": 71,
   "metadata": {
    "collapsed": true
   },
   "outputs": [
    {
     "name": "stdout",
     "output_type": "stream",
     "text": [
      "> <ipython-input-70-4f43af1fb654>(14)fill_values()\n",
      "-> candidate_blocks = block(candidates_all, i, j, exclude_self=True)\n",
      "(Pdb) l\n",
      "  9  \t                value_set = True\n",
      " 10  \t                continue\n",
      " 11  \t            \n",
      " 12  \t            if i == 5 and j == 8:\n",
      " 13  \t                pdb.set_trace()\n",
      " 14  ->\t            candidate_blocks = block(candidates_all, i, j, exclude_self=True)\n",
      " 15  \t            candidate_rows = row(candidates_all, i, j, exclude_self=True)\n",
      " 16  \t            candidate_cols = col(candidates_all, i, j, exclude_self=True)\n",
      " 17  \t            for val in candidates_all[i][j]:\n",
      " 18  \t                val_in_block = [val in entry for entry in candidate_blocks]\n",
      " 19  \t                val_in_row = [val in entry for entry in candidate_rows]\n",
      "(Pdb) n\n",
      "> <ipython-input-70-4f43af1fb654>(15)fill_values()\n",
      "-> candidate_rows = row(candidates_all, i, j, exclude_self=True)\n",
      "(Pdb) n\n",
      "> <ipython-input-70-4f43af1fb654>(16)fill_values()\n",
      "-> candidate_cols = col(candidates_all, i, j, exclude_self=True)\n",
      "(Pdb) n\n",
      "> <ipython-input-70-4f43af1fb654>(17)fill_values()\n",
      "-> for val in candidates_all[i][j]:\n",
      "(Pdb) candidate_rows\n",
      "[[3, 4], [2], [5], [1], [8], [7], [3, 4], [6]]\n",
      "(Pdb) n\n",
      "> <ipython-input-70-4f43af1fb654>(18)fill_values()\n",
      "-> val_in_block = [val in entry for entry in candidate_blocks]\n",
      "(Pdb) n\n",
      "> <ipython-input-70-4f43af1fb654>(18)fill_values()\n",
      "-> val_in_block = [val in entry for entry in candidate_blocks]\n",
      "(Pdb) val_in_block\n",
      "[False, False, False, False, False, False, False, False]\n",
      "(Pdb) val\n",
      "3\n",
      "(Pdb) n\n",
      "> <ipython-input-70-4f43af1fb654>(18)fill_values()\n",
      "-> val_in_block = [val in entry for entry in candidate_blocks]\n",
      "(Pdb) n\n",
      "> <ipython-input-70-4f43af1fb654>(18)fill_values()\n",
      "-> val_in_block = [val in entry for entry in candidate_blocks]\n",
      "(Pdb) val\n",
      "3\n",
      "(Pdb) l\n",
      " 13  \t                pdb.set_trace()\n",
      " 14  \t            candidate_blocks = block(candidates_all, i, j, exclude_self=True)\n",
      " 15  \t            candidate_rows = row(candidates_all, i, j, exclude_self=True)\n",
      " 16  \t            candidate_cols = col(candidates_all, i, j, exclude_self=True)\n",
      " 17  \t            for val in candidates_all[i][j]:\n",
      " 18  ->\t                val_in_block = [val in entry for entry in candidate_blocks]\n",
      " 19  \t                val_in_row = [val in entry for entry in candidate_rows]\n",
      " 20  \t                val_in_col = [val in entry for entry in candidate_cols]\n",
      " 21  \t                if True not in val_in_block or True not in val_in_row or True not in val_in_col:\n",
      " 22  \t                    input_list[i][j] = val\n",
      " 23  \t                    value_set = True\n",
      "(Pdb) val\n",
      "3\n",
      "(Pdb) n\n",
      "> <ipython-input-70-4f43af1fb654>(18)fill_values()\n",
      "-> val_in_block = [val in entry for entry in candidate_blocks]\n",
      "(Pdb) n\n",
      "> <ipython-input-70-4f43af1fb654>(18)fill_values()\n",
      "-> val_in_block = [val in entry for entry in candidate_blocks]\n",
      "(Pdb) [val in entry for entry in candidate_rows]\n",
      "[True, False, False, False, False, False, True, False]\n",
      "(Pdb) val\n",
      "3\n",
      "(Pdb) val_in_col\n",
      "[False, False, False, False, False, False, False, False]\n",
      "(Pdb) True not in val_in_block\n",
      "True\n",
      "(Pdb) True not in val_in_row\n",
      "True\n",
      "(Pdb) val_in_row\n",
      "[False, False, False, False, False, False, False, False]\n",
      "(Pdb) val_in_col\n",
      "[False, False, False, False, False, False, False, False]\n",
      "(Pdb) val_in_block\n",
      "[False, False, False, False, False, False, False, False]\n",
      "(Pdb) val\n",
      "3\n",
      "(Pdb) c\n"
     ]
    }
   ],
   "source": [
    "fill_values(input_list, make_candidates(input_list))"
   ]
  },
  {
   "cell_type": "code",
   "execution_count": null,
   "metadata": {
    "collapsed": true
   },
   "outputs": [],
   "source": []
  }
 ],
 "metadata": {
  "kernelspec": {
   "display_name": "Python 2",
   "language": "python",
   "name": "python2"
  },
  "language_info": {
   "codemirror_mode": {
    "name": "ipython",
    "version": 2
   },
   "file_extension": ".py",
   "mimetype": "text/x-python",
   "name": "python",
   "nbconvert_exporter": "python",
   "pygments_lexer": "ipython2",
   "version": "2.7.11"
  }
 },
 "nbformat": 4,
 "nbformat_minor": 0
}
