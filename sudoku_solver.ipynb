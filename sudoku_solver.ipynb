{
 "cells": [
  {
   "cell_type": "markdown",
   "metadata": {},
   "source": [
    "This module attempts to solve Sudokus"
   ]
  },
  {
   "cell_type": "code",
   "execution_count": 1,
   "metadata": {
    "collapsed": true
   },
   "outputs": [],
   "source": [
    "import urllib2\n",
    "response = urllib2.urlopen('http://www.websudoku.com/?level=3&set_id=3365344417')\n",
    "html = response.read()"
   ]
  },
  {
   "cell_type": "code",
   "execution_count": 74,
   "metadata": {
    "collapsed": true
   },
   "outputs": [],
   "source": [
    "# http://www.websudoku.com/?level=3&set_id=3365344417\n",
    "input_list = [[5,0,0,0,2,0,3,0,0], \n",
    "              [0,0,0,7,0,0,0,0,8],\n",
    "              [0,1,0,0,9,5,7,0,6],\n",
    "              [9,3,0,0,0,0,2,0,0],\n",
    "              [0,0,0,0,5,0,0,0,0],\n",
    "              [0,0,6,0,0,0,0,1,3],\n",
    "              [7,0,2,4,1,0,0,8,0],\n",
    "              [1,0,0,0,0,8,0,0,0],\n",
    "              [0,0,3,0,6,0,0,0,7]]       "
   ]
  },
  {
   "cell_type": "code",
   "execution_count": 70,
   "metadata": {
    "collapsed": true
   },
   "outputs": [],
   "source": [
    "# http://www.websudoku.com/?level=1&set_id=3079647469\n",
    "# row-represented\n",
    "input_list = [[0,0,0,0,6,0,0,7,8],\n",
    "              [0,4,7,0,0,3,5,0,6],\n",
    "              [6,9,0,0,0,7,0,0,0],\n",
    "              [9,0,0,6,0,1,3,4,0],\n",
    "              [5,7,0,0,0,0,0,8,1],\n",
    "              [0,3,1,5,0,9,0,0,7],\n",
    "              [0,0,0,1,0,0,0,3,2],\n",
    "              [7,0,4,2,0,0,6,1,0],\n",
    "              [1,2,0,0,9,0,0,0,0]]"
   ]
  },
  {
   "cell_type": "code",
   "execution_count": 9,
   "metadata": {
    "collapsed": true
   },
   "outputs": [],
   "source": [
    "def row(x, row_idx, col_idx):\n",
    "    return x[row_idx]\n",
    "\n",
    "def col(x, row_idx, col_idx):\n",
    "    return [entry[col_idx] for entry in x]\n",
    "\n",
    "def block(x, row_idx, col_idx):\n",
    "    start_row = int(row_idx / 3) * 3\n",
    "    end_row = start_row + 3\n",
    "    \n",
    "    start_col = int(col_idx / 3) * 3\n",
    "    end_col = start_col + 3\n",
    "    \n",
    "    return [x[i][j] for i in range(start_row, end_row) for j in range(start_col, end_col)]"
   ]
  },
  {
   "cell_type": "code",
   "execution_count": 36,
   "metadata": {
    "collapsed": true
   },
   "outputs": [],
   "source": [
    "def possible_values(input_list, row_idx, col_idx):\n",
    "    row_values = row(input_list, row_idx, col_idx)\n",
    "    col_values = col(input_list, row_idx, col_idx)\n",
    "    block_values = block(input_list, row_idx, col_idx)\n",
    "    \n",
    "    cell_value = input_list[row_idx][col_idx]\n",
    "    if cell_value > 0:\n",
    "        return [cell_value]\n",
    "    return [i for i in range(1, 10) if not ((i in row_values) or (i in col_values) or (i in block_values))]"
   ]
  },
  {
   "cell_type": "code",
   "execution_count": 51,
   "metadata": {
    "collapsed": true
   },
   "outputs": [],
   "source": [
    "def make_candidates(input_list):\n",
    "    candidates = []\n",
    "    for i in range(len(input_list)):\n",
    "        row_res = []\n",
    "        for j in range(len(input_list[0])):\n",
    "            row_res.append(possible_values(input_list, i, j))\n",
    "        candidates.append(row_res)\n",
    "    return candidates"
   ]
  },
  {
   "cell_type": "code",
   "execution_count": 48,
   "metadata": {
    "collapsed": false
   },
   "outputs": [],
   "source": [
    "def fill_values(input_list, candidates):\n",
    "    for i in range(len(input_list)):\n",
    "        for j in range(len(input_list[0])):\n",
    "            if input_list[i][j] == 0 and len(candidates[i][j]) == 1:\n",
    "                input_list[i][j] = candidates[i][j][0]"
   ]
  },
  {
   "cell_type": "code",
   "execution_count": 71,
   "metadata": {
    "collapsed": true
   },
   "outputs": [],
   "source": [
    "def has_empty_cell(input_list):\n",
    "    for row in input_list:\n",
    "        if 0 in row:\n",
    "            return True\n",
    "    return False"
   ]
  },
  {
   "cell_type": "code",
   "execution_count": 80,
   "metadata": {
    "collapsed": false
   },
   "outputs": [],
   "source": [
    "candidates = make_candidates(input_list)"
   ]
  },
  {
   "cell_type": "code",
   "execution_count": 81,
   "metadata": {
    "collapsed": false
   },
   "outputs": [
    {
     "data": {
      "text/plain": [
       "[[[5],\n",
       "  [4, 6, 7, 8, 9],\n",
       "  [4, 7, 8, 9],\n",
       "  [1, 6, 8],\n",
       "  [2],\n",
       "  [1, 4, 6],\n",
       "  [3],\n",
       "  [4, 9],\n",
       "  [1, 4, 9]],\n",
       " [[2, 3, 4, 6],\n",
       "  [2, 4, 6, 9],\n",
       "  [4, 9],\n",
       "  [7],\n",
       "  [3, 4],\n",
       "  [1, 3, 4, 6],\n",
       "  [1, 4, 5, 9],\n",
       "  [2, 4, 5, 9],\n",
       "  [8]],\n",
       " [[2, 3, 4, 8], [1], [4, 8], [3, 8], [9], [5], [7], [2, 4], [6]],\n",
       " [[9],\n",
       "  [3],\n",
       "  [1, 4, 5, 7, 8],\n",
       "  [1, 6, 8],\n",
       "  [4, 7, 8],\n",
       "  [1, 4, 6, 7],\n",
       "  [2],\n",
       "  [4, 5, 6, 7],\n",
       "  [4, 5]],\n",
       " [[2, 4, 8],\n",
       "  [2, 4, 7, 8],\n",
       "  [1, 4, 7, 8],\n",
       "  [1, 2, 3, 6, 8, 9],\n",
       "  [5],\n",
       "  [1, 2, 3, 4, 6, 7, 9],\n",
       "  [4, 6, 8, 9],\n",
       "  [4, 6, 7, 9],\n",
       "  [4, 9]],\n",
       " [[2, 4, 8],\n",
       "  [2, 4, 5, 7, 8],\n",
       "  [6],\n",
       "  [2, 8, 9],\n",
       "  [4, 7, 8],\n",
       "  [2, 4, 7, 9],\n",
       "  [4, 5, 8, 9],\n",
       "  [1],\n",
       "  [3]],\n",
       " [[7], [5, 6, 9], [2], [4], [1], [3, 9], [5, 6, 9], [8], [5, 9]],\n",
       " [[1],\n",
       "  [4, 5, 6, 9],\n",
       "  [4, 5, 9],\n",
       "  [2, 3, 5, 9],\n",
       "  [3, 7],\n",
       "  [8],\n",
       "  [4, 5, 6, 9],\n",
       "  [2, 3, 4, 5, 6, 9],\n",
       "  [2, 4, 5, 9]],\n",
       " [[4, 8],\n",
       "  [4, 5, 8, 9],\n",
       "  [3],\n",
       "  [2, 5, 9],\n",
       "  [6],\n",
       "  [2, 9],\n",
       "  [1, 4, 5, 9],\n",
       "  [2, 4, 5, 9],\n",
       "  [7]]]"
      ]
     },
     "execution_count": 81,
     "metadata": {},
     "output_type": "execute_result"
    }
   ],
   "source": [
    "candidates"
   ]
  },
  {
   "cell_type": "code",
   "execution_count": 76,
   "metadata": {
    "collapsed": false
   },
   "outputs": [
    {
     "data": {
      "text/plain": [
       "[[5, 0, 0, 0, 2, 0, 3, 0, 0],\n",
       " [0, 0, 0, 7, 0, 0, 0, 0, 8],\n",
       " [0, 1, 0, 0, 9, 5, 7, 0, 6],\n",
       " [9, 3, 0, 0, 0, 0, 2, 0, 0],\n",
       " [0, 0, 0, 0, 5, 0, 0, 0, 0],\n",
       " [0, 0, 6, 0, 0, 0, 0, 1, 3],\n",
       " [7, 0, 2, 4, 1, 0, 0, 8, 0],\n",
       " [1, 0, 0, 0, 0, 8, 0, 0, 0],\n",
       " [0, 0, 3, 0, 6, 0, 0, 0, 7]]"
      ]
     },
     "execution_count": 76,
     "metadata": {},
     "output_type": "execute_result"
    }
   ],
   "source": [
    "input_list"
   ]
  },
  {
   "cell_type": "code",
   "execution_count": 77,
   "metadata": {
    "collapsed": false,
    "scrolled": true
   },
   "outputs": [
    {
     "name": "stdout",
     "output_type": "stream",
     "text": [
      "CPU times: user 68 ms, sys: 4 ms, total: 72 ms\n",
      "Wall time: 68.7 ms\n"
     ]
    }
   ],
   "source": [
    "%%time\n",
    "num_iter = 0\n",
    "while has_empty_cell(input_list) and num_iter < 100:\n",
    "    fill_values(input_list, make_candidates(input_list))\n",
    "    num_iter += 1"
   ]
  },
  {
   "cell_type": "code",
   "execution_count": null,
   "metadata": {
    "collapsed": true
   },
   "outputs": [],
   "source": []
  }
 ],
 "metadata": {
  "kernelspec": {
   "display_name": "Python 2",
   "language": "python",
   "name": "python2"
  },
  "language_info": {
   "codemirror_mode": {
    "name": "ipython",
    "version": 2
   },
   "file_extension": ".py",
   "mimetype": "text/x-python",
   "name": "python",
   "nbconvert_exporter": "python",
   "pygments_lexer": "ipython2",
   "version": "2.7.11"
  }
 },
 "nbformat": 4,
 "nbformat_minor": 0
}
